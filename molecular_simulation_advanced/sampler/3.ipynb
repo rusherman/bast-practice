{
 "cells": [
  {
   "cell_type": "markdown",
   "id": "59d07fad-6e9d-4868-ad17-5e45f080e34c",
   "metadata": {},
   "source": [
    "# Python基础练习\n",
    "Authors: \n",
    "\n",
    "- Yucheng CHEN\n",
    "\n",
    "**AIMS:**\n",
    "* 初步了解Python语法的使用，学会使用Numpy、Pandas、Matplotlib库的使用"
   ]
  },
  {
   "cell_type": "markdown",
   "id": "f8306ecc-642e-4fe4-854f-bad5783f6b08",
   "metadata": {},
   "source": [
    "## Python基础练习"
   ]
  },
  {
   "cell_type": "markdown",
   "id": "859ac9b8-0cdd-4186-ae22-902abd66f4df",
   "metadata": {},
   "source": [
    "### 列表"
   ]
  },
  {
   "cell_type": "markdown",
   "source": [
    "现有一空的列表“kobe_list”用来存入科比某次投篮的信息，请利用append()方法将年龄22、投篮类型‘Jump Shot’、科比所在球队‘Los Angeles Lakers’和对手‘POR’按顺序加入到列表变量kobe_list中。"
   ],
   "metadata": {
    "collapsed": false
   }
  },
  {
   "cell_type": "code",
   "execution_count": 49,
   "id": "65cd9cc2-b40f-401c-8e06-528e043928d6",
   "metadata": {},
   "outputs": [
    {
     "data": {
      "text/plain": "[22, 'Jump Shot', 'Los Angeles Lakers', 'POR']"
     },
     "execution_count": 49,
     "metadata": {},
     "output_type": "execute_result"
    }
   ],
   "source": [
    "kobe_list = []\n",
    "kobe_list.append(22)\n",
    "kobe_list.append('Jump Shot')\n",
    "kobe_list.append('Los Angeles Lakers')\n",
    "kobe_list.append('POR')\n",
    "kobe_list"
   ]
  },
  {
   "cell_type": "markdown",
   "id": "677c0fb6-bdc2-439c-9e12-3b78804a7bb4",
   "metadata": {},
   "source": [
    "现有科比某次投篮信息的列表kobe_list ，kobe_list = ['Los Angeles Lakers', 'LAL @ POR', 'Jump Shot', 'POR', 'Left Side(L)', '2000-10-31‘]，请使用切片方法取出索引位置3到5的元素，并存入到列表three_five中,并同时打印年份"
   ]
  },
  {
   "cell_type": "code",
   "execution_count": 50,
   "id": "ea96cc31-a0d0-41b6-98b7-96b4c91b704e",
   "metadata": {},
   "outputs": [
    {
     "name": "stdout",
     "output_type": "stream",
     "text": [
      "['POR', 'Left Side(L)', '2000-10-31']\n",
      "2000\n"
     ]
    }
   ],
   "source": [
    "kobe_list = ['Los Angeles Lakers', 'LAL @ POR', 'Jump Shot', 'POR', 'Left Side(L)', '2000-10-31']\n",
    "three_five = kobe_list[3:6]\n",
    "year = three_five[-1][0:4]\n",
    "print(three_five)\n",
    "print(year)"
   ]
  },
  {
   "cell_type": "markdown",
   "id": "9f6fa3b8-298d-4a8f-9f8f-e335abf754a0",
   "metadata": {},
   "source": [
    "### 字典"
   ]
  },
  {
   "cell_type": "markdown",
   "id": "8c4cb94c-4517-4651-acd1-f81fa5548fb4",
   "metadata": {},
   "source": [
    "请创建关于科比投篮信息的字典kobe_dict，键为id，值为shot_zone_area\n",
    "其中列表shot_id与列表shot_zone_area应按照顺序一一对应\n",
    "\n"
   ]
  },
  {
   "cell_type": "code",
   "execution_count": 51,
   "id": "40c0cfeb-8361-4b3e-a544-c4f0d9fee917",
   "metadata": {},
   "outputs": [
    {
     "name": "stdout",
     "output_type": "stream",
     "text": [
      "{'R': 'Right Side(R)', 'L': 'Left Side(L)', 'LC': 'Left Side Center(LC)'}\n"
     ]
    }
   ],
   "source": [
    "id = ['R','L','LC']\n",
    "shot_zone_area = ['Right Side(R)','Left Side(L)','Left Side Center(LC)']\n",
    "kobe_dict = {'R':'Right Side(R)','L':'Left Side(L)','LC':'Left Side Center(LC)'}\n",
    "print(kobe_dict)"
   ]
  },
  {
   "cell_type": "code",
   "execution_count": 52,
   "id": "dd977bc4-57d5-4122-97bc-c67589c20071",
   "metadata": {},
   "outputs": [
    {
     "name": "stdout",
     "output_type": "stream",
     "text": [
      "Right Side(R)\n",
      "Left Side Center(LC)\n"
     ]
    }
   ],
   "source": [
    "#字典中某值的索引还可以通过 get 方法，如果字典不包含某个键，可以返回 None \n",
    "print(kobe_dict.get('R'))\n",
    "print(kobe_dict.get('LC'))"
   ]
  },
  {
   "cell_type": "code",
   "execution_count": 53,
   "id": "e8b92bf7-4e94-4474-9a03-b13df5408eef",
   "metadata": {},
   "outputs": [
    {
     "name": "stdout",
     "output_type": "stream",
     "text": [
      "Left Side(L)\n",
      "Left Side Center(LC)\n"
     ]
    }
   ],
   "source": [
    "#字典的访问\n",
    "print(kobe_dict[\"L\"])\n",
    "print(kobe_dict[\"LC\"])"
   ]
  },
  {
   "cell_type": "code",
   "execution_count": 54,
   "id": "ccd60cc5-1445-4f60-92a4-bcab67ceb795",
   "metadata": {},
   "outputs": [
    {
     "name": "stdout",
     "output_type": "stream",
     "text": [
      "dict_keys(['R', 'L', 'LC'])\n"
     ]
    }
   ],
   "source": [
    "#如果不太确定字典中有哪些键或者值，我们可以使用 keys() 方法或者values()方法\n",
    "print(kobe_dict.keys())"
   ]
  },
  {
   "cell_type": "code",
   "execution_count": 55,
   "id": "c64edfc2-2b64-4359-a0ea-d4b7bf7d50a6",
   "metadata": {},
   "outputs": [
    {
     "name": "stdout",
     "output_type": "stream",
     "text": [
      "{'R': 'Right Side(R)', 'LC': 'Left Side Center(LC)'}\n",
      "{'R': 'Right Side(R)'}\n",
      "{}\n"
     ]
    }
   ],
   "source": [
    "# 使用 del 函数对单一元素或者整个字典进行删除\n",
    "# 使用 pop() 方法删除单一元素\n",
    "# 使用 clear() 方法清空词典的所有元素\n",
    "del kobe_dict['L']\n",
    "print(kobe_dict)\n",
    "kobe_dict.pop('LC')\n",
    "print(kobe_dict)\n",
    "kobe_dict.clear()\n",
    "print(kobe_dict)"
   ]
  },
  {
   "cell_type": "markdown",
   "id": "f8c87eca-fd9b-42e9-8e07-3bb83da5569b",
   "metadata": {},
   "source": [
    "### if else结构"
   ]
  },
  {
   "cell_type": "code",
   "execution_count": 56,
   "id": "ff771516-ccd1-4367-a88b-167f6b97e20d",
   "metadata": {},
   "outputs": [
    {
     "name": "stdout",
     "output_type": "stream",
     "text": [
      "及格\n"
     ]
    }
   ],
   "source": [
    "#if else选择结构\n",
    "score=61\n",
    "if score>=60:\n",
    "    print(\"及格\")\n",
    "else:\n",
    "    print(\"不及格\")"
   ]
  },
  {
   "cell_type": "code",
   "execution_count": 57,
   "id": "3976e267-f004-4c87-ab61-69d357b786e4",
   "metadata": {},
   "outputs": [
    {
     "name": "stdout",
     "output_type": "stream",
     "text": [
      "优秀\n"
     ]
    }
   ],
   "source": [
    "# if elif else 结构\n",
    "score = 80\n",
    "if score<60:\n",
    "    print(\"不及格\")\n",
    "    \n",
    "elif score>60 and score<80:\n",
    "    print(\"合格\")\n",
    "else:\n",
    "    print(\"优秀\")"
   ]
  },
  {
   "cell_type": "markdown",
   "id": "7ffd6e0b-2e8b-4d7a-a156-4fdd4b293b50",
   "metadata": {},
   "source": [
    "### 循环语句"
   ]
  },
  {
   "cell_type": "code",
   "execution_count": 58,
   "id": "9a81980e-9464-4bb3-9693-c91bf62c6b1a",
   "metadata": {},
   "outputs": [
    {
     "name": "stdout",
     "output_type": "stream",
     "text": [
      "0\n",
      "1\n",
      "2\n"
     ]
    }
   ],
   "source": [
    "# for循环\n",
    "for i in range(3):\n",
    "    print(i)"
   ]
  },
  {
   "cell_type": "code",
   "execution_count": 59,
   "id": "dff9ee5f-ab79-4715-a2ca-52099192a8c7",
   "metadata": {},
   "outputs": [
    {
     "name": "stdout",
     "output_type": "stream",
     "text": [
      "0\n",
      "1\n",
      "2\n"
     ]
    }
   ],
   "source": [
    "# while 循环\n",
    "i=0\n",
    "while i<3:\n",
    "    print(i)\n",
    "    i=i+1"
   ]
  },
  {
   "cell_type": "code",
   "execution_count": 60,
   "id": "bb86fd5f-7759-4a5a-b805-ffc6fe5643f7",
   "metadata": {},
   "outputs": [
    {
     "data": {
      "text/plain": "dict_keys([1, 2])"
     },
     "execution_count": 60,
     "metadata": {},
     "output_type": "execute_result"
    }
   ],
   "source": [
    "a = [1, 2, 3]\n",
    "b = [4, 5, 6]\n",
    "c = {a[0]:b[0], a[1]: b[1]}\n",
    "c.keys()"
   ]
  },
  {
   "cell_type": "markdown",
   "id": "e01e4cb9-cd8a-4138-a366-2c065881d5f4",
   "metadata": {},
   "source": [
    "### 函数"
   ]
  },
  {
   "cell_type": "code",
   "execution_count": 61,
   "id": "e5a3ce85-5d21-403e-b54b-4555cfd46a79",
   "metadata": {},
   "outputs": [
    {
     "name": "stdout",
     "output_type": "stream",
     "text": [
      "5\n"
     ]
    }
   ],
   "source": [
    "# 两个函数求和\n",
    "def sum_two(a, b):\n",
    "    return a + b\n",
    "\n",
    "a = sum_two(2, 3)\n",
    "print(a)"
   ]
  },
  {
   "cell_type": "markdown",
   "id": "1edd0a9f-10fc-4b23-b181-29d2543be7a3",
   "metadata": {},
   "source": [
    "这里可以给函数参数设置默认值，需要注意的是，被设置默认值的参数要放到后面"
   ]
  },
  {
   "cell_type": "code",
   "execution_count": 62,
   "id": "071ae1a9-df65-41b0-8799-19b821dd070e",
   "metadata": {},
   "outputs": [
    {
     "name": "stdout",
     "output_type": "stream",
     "text": [
      "7\n",
      "16\n",
      "7\n"
     ]
    }
   ],
   "source": [
    "# 两个函数求和，b设置默认值是10\n",
    "def sum_two(a, b = 10):\n",
    "    return a + b\n",
    "c = sum_two(3, 4)\n",
    "print(c)\n",
    "d = sum_two(6)\n",
    "print(d)\n",
    "e = sum_two(b = 5, a = 2)\n",
    "print(e)"
   ]
  },
  {
   "cell_type": "markdown",
   "id": "964c0952-b9a3-4854-8954-adf612bad3c2",
   "metadata": {},
   "source": [
    "### 综合练习\n",
    "\n",
    "给定一个List：\n",
    "* 如果List元素是偶数，乘以2\n",
    "* 如果List元素是奇数，不变"
   ]
  },
  {
   "cell_type": "code",
   "execution_count": 63,
   "id": "e25b86dc-8e90-4e75-9f99-25d7858c61db",
   "metadata": {},
   "outputs": [
    {
     "name": "stdout",
     "output_type": "stream",
     "text": [
      "[5, 11, 40, 24, 16]\n"
     ]
    }
   ],
   "source": [
    "def changeList(H):\n",
    "    for i, number in enumerate(H):\n",
    "        if number % 2 == 0:\n",
    "            H[i] = number * 2\n",
    "    return H\n",
    "\n",
    "H = [5, 11, 20, 12, 8]\n",
    "changeList(H)\n",
    "print(H)"
   ]
  },
  {
   "cell_type": "markdown",
   "id": "473922c1-0ae9-44de-b052-ead104ad9291",
   "metadata": {},
   "source": [
    "## python的基础库使用"
   ]
  },
  {
   "cell_type": "code",
   "execution_count": 64,
   "id": "88111377-a23f-4098-bc58-4fe3b6bb3e51",
   "metadata": {},
   "outputs": [
    {
     "name": "stdout",
     "output_type": "stream",
     "text": [
      "Looking in indexes: https://pypi.tuna.tsinghua.edu.cn/simple\r\n",
      "Requirement already satisfied: matplotlib in /opt/homebrew/anaconda3/envs/torch-gpu/lib/python3.9/site-packages (3.5.1)\r\n",
      "Requirement already satisfied: pyparsing>=2.2.1 in /opt/homebrew/anaconda3/envs/torch-gpu/lib/python3.9/site-packages (from matplotlib) (3.0.9)\r\n",
      "Requirement already satisfied: kiwisolver>=1.0.1 in /opt/homebrew/anaconda3/envs/torch-gpu/lib/python3.9/site-packages (from matplotlib) (1.4.4)\r\n",
      "Requirement already satisfied: cycler>=0.10 in /opt/homebrew/anaconda3/envs/torch-gpu/lib/python3.9/site-packages (from matplotlib) (0.11.0)\r\n",
      "Requirement already satisfied: numpy>=1.17 in /opt/homebrew/anaconda3/envs/torch-gpu/lib/python3.9/site-packages (from matplotlib) (1.23.5)\r\n",
      "Requirement already satisfied: pillow>=6.2.0 in /opt/homebrew/anaconda3/envs/torch-gpu/lib/python3.9/site-packages (from matplotlib) (9.3.0)\r\n",
      "Requirement already satisfied: python-dateutil>=2.7 in /opt/homebrew/anaconda3/envs/torch-gpu/lib/python3.9/site-packages (from matplotlib) (2.8.2)\r\n",
      "Requirement already satisfied: packaging>=20.0 in /opt/homebrew/anaconda3/envs/torch-gpu/lib/python3.9/site-packages (from matplotlib) (22.0)\r\n",
      "Requirement already satisfied: fonttools>=4.22.0 in /opt/homebrew/anaconda3/envs/torch-gpu/lib/python3.9/site-packages (from matplotlib) (4.25.0)\r\n",
      "Requirement already satisfied: six>=1.5 in /opt/homebrew/anaconda3/envs/torch-gpu/lib/python3.9/site-packages (from python-dateutil>=2.7->matplotlib) (1.16.0)\r\n"
     ]
    }
   ],
   "source": [
    "!pip install matplotlib  -i https://pypi.tuna.tsinghua.edu.cn/simple"
   ]
  },
  {
   "cell_type": "code",
   "execution_count": 65,
   "outputs": [],
   "source": [
    "import matplotlib.pyplot as plt\n",
    "import pandas as pd\n",
    "import numpy as np"
   ],
   "metadata": {
    "collapsed": false
   }
  },
  {
   "cell_type": "markdown",
   "id": "b362947d-ffdd-4c1f-a50b-cdd5b789a0f9",
   "metadata": {},
   "source": [
    "## Numpy"
   ]
  },
  {
   "cell_type": "markdown",
   "id": "91384c95-d33a-4b47-9b03-c6fa10e3b2f7",
   "metadata": {},
   "source": [
    "数组定义 & 初始化："
   ]
  },
  {
   "cell_type": "code",
   "execution_count": 66,
   "id": "37502d4e-f9d0-4436-88a5-421a1f1dcf9f",
   "metadata": {},
   "outputs": [
    {
     "name": "stdout",
     "output_type": "stream",
     "text": [
      "[1. 2. 3.]\n",
      "<class 'numpy.ndarray'>\n"
     ]
    }
   ],
   "source": [
    "#一维数组\n",
    "x = np.array([1.0, 2.0, 3.0])\n",
    "print(x)\n",
    "print(type(x))"
   ]
  },
  {
   "cell_type": "code",
   "execution_count": 67,
   "id": "b725ae71-2d85-4e53-abd1-f049135ebfdc",
   "metadata": {},
   "outputs": [
    {
     "name": "stdout",
     "output_type": "stream",
     "text": [
      "[[1 2]\n",
      " [3 4]]\n",
      "(2, 2)\n",
      "int64\n"
     ]
    }
   ],
   "source": [
    "#二维数组\n",
    "A = np.array([[1, 2], [3, 4]])\n",
    "print(A)\n",
    "print(A.shape)\n",
    "print(A.dtype)"
   ]
  },
  {
   "cell_type": "code",
   "execution_count": 68,
   "id": "435bb8fd-a532-4525-84f2-78b3921c110b",
   "metadata": {},
   "outputs": [
    {
     "name": "stdout",
     "output_type": "stream",
     "text": [
      "[[0. 0. 0.]\n",
      " [0. 0. 0.]]\n"
     ]
    }
   ],
   "source": [
    "# 全零初始化：\n",
    "C = np.zeros((2, 3))\n",
    "print(C)"
   ]
  },
  {
   "cell_type": "code",
   "execution_count": 69,
   "id": "7119fd18-0ad8-427b-a35a-c729cec76cee",
   "metadata": {},
   "outputs": [
    {
     "name": "stdout",
     "output_type": "stream",
     "text": [
      "[[1. 1.]\n",
      " [1. 1.]\n",
      " [1. 1.]]\n"
     ]
    }
   ],
   "source": [
    "# 全一初始化：\n",
    "D = np.ones((3, 2))\n",
    "print(D)"
   ]
  },
  {
   "cell_type": "markdown",
   "id": "cb6cb27c-e625-41b1-879f-6bd8a89fb046",
   "metadata": {},
   "source": [
    "数组计算："
   ]
  },
  {
   "cell_type": "code",
   "execution_count": 70,
   "id": "ca17bb58-d7fa-4145-abed-54dfb4636b6f",
   "metadata": {},
   "outputs": [
    {
     "name": "stdout",
     "output_type": "stream",
     "text": [
      "[[10 40]\n",
      " [30 80]]\n",
      "[[11 22]\n",
      " [13 24]]\n"
     ]
    }
   ],
   "source": [
    "#计算\n",
    "A = np.array([[1, 2], [3, 4]])\n",
    "B = np.array([10, 20])\n",
    "print(A * B)\n",
    "print(A + B)"
   ]
  },
  {
   "cell_type": "code",
   "execution_count": 71,
   "id": "54e513c8-728b-439e-9292-7c8b01191b0d",
   "metadata": {},
   "outputs": [
    {
     "data": {
      "text/plain": "290"
     },
     "execution_count": 71,
     "metadata": {},
     "output_type": "execute_result"
    }
   ],
   "source": [
    "#点乘\n",
    "A = np.array([1, 5, 6])\n",
    "B = np.array([10, 20, 30])\n",
    "np.dot(A,B)"
   ]
  },
  {
   "cell_type": "markdown",
   "id": "0b594997-46d4-4809-ac7a-eab5eff368f2",
   "metadata": {},
   "source": [
    "## Pandas"
   ]
  },
  {
   "cell_type": "code",
   "execution_count": 72,
   "id": "ba61e78e-79c2-4f2f-b2f0-7dd11ae70f26",
   "metadata": {},
   "outputs": [
    {
     "name": "stdout",
     "output_type": "stream",
     "text": [
      "Looking in indexes: https://pypi.tuna.tsinghua.edu.cn/simple\r\n",
      "Collecting openpyxl\r\n",
      "  Downloading https://pypi.tuna.tsinghua.edu.cn/packages/9e/57/1d3c2ce7f6f783be9b21569fc468a9f3660e35cc17017abfbbc26d3bd061/openpyxl-3.1.1-py2.py3-none-any.whl (249 kB)\r\n",
      "\u001B[2K     \u001B[90m━━━━━━━━━━━━━━━━━━━━━━━━━━━━━━━━━━━━━\u001B[0m \u001B[32m249.8/249.8 kB\u001B[0m \u001B[31m818.0 kB/s\u001B[0m eta \u001B[36m0:00:00\u001B[0ma \u001B[36m0:00:01\u001B[0m\r\n",
      "\u001B[?25hCollecting et-xmlfile\r\n",
      "  Downloading https://pypi.tuna.tsinghua.edu.cn/packages/96/c2/3dd434b0108730014f1b96fd286040dc3bcb70066346f7e01ec2ac95865f/et_xmlfile-1.1.0-py3-none-any.whl (4.7 kB)\r\n",
      "Installing collected packages: et-xmlfile, openpyxl\r\n",
      "Successfully installed et-xmlfile-1.1.0 openpyxl-3.1.1\r\n"
     ]
    }
   ],
   "source": [
    "!pip install openpyxl  -i https://pypi.tuna.tsinghua.edu.cn/simple"
   ]
  },
  {
   "cell_type": "code",
   "execution_count": 73,
   "id": "603ee9e9-8a36-4379-b1aa-e53b1d81832a",
   "metadata": {},
   "outputs": [
    {
     "data": {
      "text/plain": "  类别 产品  价格\n0  A  a  12\n1  A  b  34\n2  C  c  21\n3  B  d  45\n4  D  e  21\n5  B  f  23\n6  C  g  33\n7  B  h  88",
      "text/html": "<div>\n<style scoped>\n    .dataframe tbody tr th:only-of-type {\n        vertical-align: middle;\n    }\n\n    .dataframe tbody tr th {\n        vertical-align: top;\n    }\n\n    .dataframe thead th {\n        text-align: right;\n    }\n</style>\n<table border=\"1\" class=\"dataframe\">\n  <thead>\n    <tr style=\"text-align: right;\">\n      <th></th>\n      <th>类别</th>\n      <th>产品</th>\n      <th>价格</th>\n    </tr>\n  </thead>\n  <tbody>\n    <tr>\n      <th>0</th>\n      <td>A</td>\n      <td>a</td>\n      <td>12</td>\n    </tr>\n    <tr>\n      <th>1</th>\n      <td>A</td>\n      <td>b</td>\n      <td>34</td>\n    </tr>\n    <tr>\n      <th>2</th>\n      <td>C</td>\n      <td>c</td>\n      <td>21</td>\n    </tr>\n    <tr>\n      <th>3</th>\n      <td>B</td>\n      <td>d</td>\n      <td>45</td>\n    </tr>\n    <tr>\n      <th>4</th>\n      <td>D</td>\n      <td>e</td>\n      <td>21</td>\n    </tr>\n    <tr>\n      <th>5</th>\n      <td>B</td>\n      <td>f</td>\n      <td>23</td>\n    </tr>\n    <tr>\n      <th>6</th>\n      <td>C</td>\n      <td>g</td>\n      <td>33</td>\n    </tr>\n    <tr>\n      <th>7</th>\n      <td>B</td>\n      <td>h</td>\n      <td>88</td>\n    </tr>\n  </tbody>\n</table>\n</div>"
     },
     "execution_count": 73,
     "metadata": {},
     "output_type": "execute_result"
    }
   ],
   "source": [
    "#读取文件\n",
    "#下载地址：https://dp-public.oss-cn-beijing.aliyuncs.com/community/AI4EC/test.csv\n",
    "import pandas as pd\n",
    "# 如果csv文件是用excel生成的，可以考虑用read_excel的方式，不推荐\n",
    "#df = pd.read_excel('/data/test.csv')\n",
    "#df = pd.read_excel('https://dp-public.oss-cn-beijing.aliyuncs.com/community/AI4EC/test_excel.csv')\n",
    "\n",
    "#df = pd.read_csv('test.csv')\n",
    "df = pd.read_csv('https://dp-public.oss-cn-beijing.aliyuncs.com/community/AI4EC/test.csv')\n",
    "df"
   ]
  },
  {
   "cell_type": "code",
   "execution_count": 74,
   "id": "f74e2f45-9516-417a-8d34-d0005536f280",
   "metadata": {},
   "outputs": [
    {
     "name": "stdout",
     "output_type": "stream",
     "text": [
      "0    a\n",
      "1    b\n",
      "2    c\n",
      "3    d\n",
      "4    e\n",
      "5    f\n",
      "6    g\n",
      "7    h\n",
      "Name: 产品, dtype: object\n",
      "  产品  价格\n",
      "0  a  12\n",
      "1  b  34\n",
      "2  c  21\n",
      "3  d  45\n",
      "4  e  21\n",
      "5  f  23\n",
      "6  g  33\n",
      "7  h  88\n"
     ]
    }
   ],
   "source": [
    "print(df[\"产品\"]) #取出产品列的数据\n",
    "print(df[[\"产品\",\"价格\"]])"
   ]
  },
  {
   "cell_type": "code",
   "execution_count": 75,
   "id": "dc6187bd-0d53-4301-ad74-b9272a6c5ba5",
   "metadata": {},
   "outputs": [
    {
     "data": {
      "text/plain": "类别     A\n产品     b\n价格    34\nName: 1, dtype: object"
     },
     "execution_count": 75,
     "metadata": {},
     "output_type": "execute_result"
    }
   ],
   "source": [
    "df.iloc[1] #取出第二行数据"
   ]
  },
  {
   "cell_type": "code",
   "execution_count": 76,
   "id": "354ce927-6ea5-4235-aba0-48c8fa0dfb00",
   "metadata": {},
   "outputs": [
    {
     "data": {
      "text/plain": "  类别 产品  价格\n0  A  a  12\n1  A  b  34",
      "text/html": "<div>\n<style scoped>\n    .dataframe tbody tr th:only-of-type {\n        vertical-align: middle;\n    }\n\n    .dataframe tbody tr th {\n        vertical-align: top;\n    }\n\n    .dataframe thead th {\n        text-align: right;\n    }\n</style>\n<table border=\"1\" class=\"dataframe\">\n  <thead>\n    <tr style=\"text-align: right;\">\n      <th></th>\n      <th>类别</th>\n      <th>产品</th>\n      <th>价格</th>\n    </tr>\n  </thead>\n  <tbody>\n    <tr>\n      <th>0</th>\n      <td>A</td>\n      <td>a</td>\n      <td>12</td>\n    </tr>\n    <tr>\n      <th>1</th>\n      <td>A</td>\n      <td>b</td>\n      <td>34</td>\n    </tr>\n  </tbody>\n</table>\n</div>"
     },
     "execution_count": 76,
     "metadata": {},
     "output_type": "execute_result"
    }
   ],
   "source": [
    "#获取多行\n",
    "df.iloc[[0,1]]"
   ]
  },
  {
   "cell_type": "code",
   "execution_count": 77,
   "id": "0cc0079e-60c7-48b8-8759-e8608a221c29",
   "metadata": {},
   "outputs": [
    {
     "name": "stdout",
     "output_type": "stream",
     "text": [
      "<class 'pandas.core.frame.DataFrame'>\n",
      "    产品  价格\n",
      "类别        \n",
      "A    2   2\n",
      "B    3   3\n",
      "C    2   2\n",
      "D    1   1\n"
     ]
    }
   ],
   "source": [
    "#统计每一类产品的数量\n",
    "a = df.groupby(\"类别\").count()\n",
    "print(type(a))\n",
    "print(a)"
   ]
  },
  {
   "cell_type": "code",
   "execution_count": 78,
   "id": "6a30e878-861e-411b-9a71-9ca90698da75",
   "metadata": {},
   "outputs": [
    {
     "data": {
      "text/plain": "类别\nA    2\nB    3\nC    2\nD    1\nName: 产品, dtype: int64"
     },
     "execution_count": 78,
     "metadata": {},
     "output_type": "execute_result"
    }
   ],
   "source": [
    "#统计每一类产品的数量\n",
    "df.groupby(\"类别\").count()[\"产品\"]"
   ]
  },
  {
   "cell_type": "code",
   "execution_count": 79,
   "id": "59ddfb33-ab34-4732-b360-34187b2be972",
   "metadata": {},
   "outputs": [
    {
     "data": {
      "text/plain": "  类别 产品  价格\n3  B  d  45\n7  B  h  88",
      "text/html": "<div>\n<style scoped>\n    .dataframe tbody tr th:only-of-type {\n        vertical-align: middle;\n    }\n\n    .dataframe tbody tr th {\n        vertical-align: top;\n    }\n\n    .dataframe thead th {\n        text-align: right;\n    }\n</style>\n<table border=\"1\" class=\"dataframe\">\n  <thead>\n    <tr style=\"text-align: right;\">\n      <th></th>\n      <th>类别</th>\n      <th>产品</th>\n      <th>价格</th>\n    </tr>\n  </thead>\n  <tbody>\n    <tr>\n      <th>3</th>\n      <td>B</td>\n      <td>d</td>\n      <td>45</td>\n    </tr>\n    <tr>\n      <th>7</th>\n      <td>B</td>\n      <td>h</td>\n      <td>88</td>\n    </tr>\n  </tbody>\n</table>\n</div>"
     },
     "execution_count": 79,
     "metadata": {},
     "output_type": "execute_result"
    }
   ],
   "source": [
    "#找到价格大于40的产品\n",
    "df[df[\"价格\"]>40]"
   ]
  },
  {
   "cell_type": "code",
   "execution_count": 80,
   "id": "ad5b6d3f-e0c8-4bbc-a422-c1c0809c43b2",
   "metadata": {},
   "outputs": [
    {
     "data": {
      "text/plain": "  产品  价格\n3  d  45\n7  h  88",
      "text/html": "<div>\n<style scoped>\n    .dataframe tbody tr th:only-of-type {\n        vertical-align: middle;\n    }\n\n    .dataframe tbody tr th {\n        vertical-align: top;\n    }\n\n    .dataframe thead th {\n        text-align: right;\n    }\n</style>\n<table border=\"1\" class=\"dataframe\">\n  <thead>\n    <tr style=\"text-align: right;\">\n      <th></th>\n      <th>产品</th>\n      <th>价格</th>\n    </tr>\n  </thead>\n  <tbody>\n    <tr>\n      <th>3</th>\n      <td>d</td>\n      <td>45</td>\n    </tr>\n    <tr>\n      <th>7</th>\n      <td>h</td>\n      <td>88</td>\n    </tr>\n  </tbody>\n</table>\n</div>"
     },
     "execution_count": 80,
     "metadata": {},
     "output_type": "execute_result"
    }
   ],
   "source": [
    "#找到价格大于40的产品，并且只看产品和价格\n",
    "df[df[\"价格\"]>40][[\"产品\",\"价格\"]]"
   ]
  },
  {
   "cell_type": "code",
   "execution_count": 81,
   "id": "0627bdda-569c-4b76-8c17-039a87925c92",
   "metadata": {},
   "outputs": [],
   "source": [
    "df.to_csv('test2.csv', index = False)"
   ]
  },
  {
   "cell_type": "markdown",
   "id": "2fc50060-040c-40bd-9c06-2b68a7416b85",
   "metadata": {},
   "source": [
    "## Matplotlib"
   ]
  },
  {
   "cell_type": "code",
   "execution_count": 82,
   "id": "f1735365-ee3b-4c90-b6a0-b56295ff6f37",
   "metadata": {},
   "outputs": [
    {
     "data": {
      "text/plain": "<Figure size 640x480 with 1 Axes>",
      "image/png": "[encoded data removed]"
     },
     "metadata": {},
     "output_type": "display_data"
    }
   ],
   "source": [
    "import matplotlib.pyplot as plt\n",
    "plt.plot([1,2,3,4,5],[2,4,6,8,10],'ko--')\n",
    "plt.xlabel(\"x\")\n",
    "plt.ylabel(\"y\")\n",
    "plt.title(\"line\")\n",
    "plt.show()"
   ]
  },
  {
   "cell_type": "code",
   "execution_count": 83,
   "id": "b458d82b-85a6-409e-a9f6-f01872de839c",
   "metadata": {},
   "outputs": [
    {
     "data": {
      "text/plain": "<Figure size 640x480 with 1 Axes>",
      "image/png": "[encoded data removed]"
     },
     "metadata": {},
     "output_type": "display_data"
    }
   ],
   "source": [
    "import matplotlib.pyplot as plt\n",
    "import numpy as np\n",
    "pop = np.random.randint(0,100,100)  #生成0到100的100个随机整数\n",
    "plt.hist(pop,bins=20)               #设定间隔数为20，默认是10\n",
    "plt.show()"
   ]
  },
  {
   "cell_type": "code",
   "execution_count": 84,
   "id": "40e84127-1c9c-4671-9d6d-b1d98820536c",
   "metadata": {},
   "outputs": [
    {
     "data": {
      "text/plain": "<Figure size 640x480 with 1 Axes>",
      "image/png": "[encoded data removed]"
     },
     "metadata": {},
     "output_type": "display_data"
    }
   ],
   "source": [
    "import matplotlib\n",
    "import matplotlib.pyplot as plt\n",
    "xvalues = [0,1,2,3]  #条形图在x轴上的起始位置\n",
    "GDP = [13908.57,6406.8,9891.48,9709.02]\n",
    "plt.bar(range(4), GDP, align = 'center', color='black') # 绘图\n",
    "plt.ylabel( 'GDP')              # 添加y轴标签\n",
    "plt.title( 'GDP--TOP4')   # 添加标题\n",
    "plt.xticks(range(4),['Shanghai','Beijing','Guangzhou','Shenzhen']) #设置x轴刻度标签\n",
    "plt.ylim([6000, 15000])   # 设置Y轴的刻度范围\n",
    "for x,y in enumerate(GDP): # 为每个条形图添加数值标签\n",
    "    plt.text(x, y+ 100, '%s'%round(y, 1), ha= 'center')  # 居中对齐\n",
    "plt.show()  # 显示图形"
   ]
  },
  {
   "cell_type": "code",
   "execution_count": 85,
   "id": "46a6d53c-de96-4bf9-99df-ca63de87eabb",
   "metadata": {},
   "outputs": [
    {
     "data": {
      "text/plain": "<Figure size 640x480 with 1 Axes>",
      "image/png": "[encoded data removed]"
     },
     "metadata": {},
     "output_type": "display_data"
    }
   ],
   "source": [
    "import matplotlib.pyplot as plt\n",
    "labels = ('Java','C','C++','Python')\n",
    "sizes = [15,30,45,10]\n",
    "explode = (0,0.1,0,0)  #0.1表示将'C'那一块离开中心的距离\n",
    "#startangle表示饼图的起始角度\n",
    "plt.pie(sizes,explode=explode,labels=labels,autopct='%1.1f%%', shadow=False,startangle=90)\n",
    "plt.show()"
   ]
  },
  {
   "cell_type": "markdown",
   "id": "04bea6a4-838d-4638-8df4-82dd439f5d27",
   "metadata": {},
   "source": [
    "# python基础综合应用"
   ]
  },
  {
   "cell_type": "markdown",
   "id": "fbc6df8d-0045-4d24-bdaf-837f770082a0",
   "metadata": {},
   "source": [
    "在文件“Molecular_Descriptor.csv”【下载地址：https://dp-public.oss-cn-beijing.aliyuncs.com/community/AI4EC/Molecular_Descriptor_train%20.csv 】的 training 表（训练集）中，给出了上述 1974 个化合物的 729 个分子描述符信息（即自变量）。其中第一列也是化合物的 SMILES 式（编号顺序与上表一样），其后共有 729 列，每列代表化合物的一个分子描述符（即一个特征）。化合物的分子描述符是一系列用于描述化合物的结构和性质特征的参数，包括物理化学性质（如分子量，LogP 等），拓扑结构特征（如氢键供体数量，氢键受体数量等），等等。"
   ]
  },
  {
   "cell_type": "markdown",
   "id": "13fa8267-240a-4801-9485-38ca761c6bca",
   "metadata": {},
   "source": [
    "#### （1）使用pandas库，读取Molecular_Descriptor文件\n"
   ]
  },
  {
   "cell_type": "code",
   "execution_count": 86,
   "id": "ce935e3c-d240-4251-8bb8-8acfbca1791c",
   "metadata": {},
   "outputs": [],
   "source": [
    "import pandas as pd\n",
    "df=pd.read_csv('https://dp-public.oss-cn-beijing.aliyuncs.com/community/AI4EC/Molecular_Descriptor_train%20.csv')\n"
   ]
  },
  {
   "cell_type": "markdown",
   "id": "6db47cee-96fa-4330-b7ad-14a621cda7e6",
   "metadata": {},
   "source": [
    "#### （2）显示该数据的前5行\n"
   ]
  },
  {
   "cell_type": "code",
   "execution_count": 87,
   "id": "7f9286ae-110c-4f1d-ad9c-b85f000d1205",
   "metadata": {},
   "outputs": [
    {
     "data": {
      "text/plain": "                                              SMILES  nAcid   ALogP    ALogp2  \\\n0  Oc1ccc2O[C@H]([C@H](Sc2c1)C3CCCC3)c4ccc(OCCN5C...      0 -0.2860  0.081796   \n1  Oc1ccc2O[C@H]([C@H](Sc2c1)C3CCCCCC3)c4ccc(OCCN...      0 -0.8620  0.743044   \n2  Oc1ccc(cc1)[C@H]2Sc3cc(O)ccc3O[C@H]2c4ccc(OCCN...      0  0.7296  0.532316   \n3  Oc1ccc2O[C@H]([C@@H](CC3CCCCC3)Sc2c1)c4ccc(OCC...      0 -0.3184  0.101379   \n4  Oc1ccc2O[C@H]([C@@H](Cc3ccccc3)Sc2c1)c4ccc(OCC...      0  1.3551  1.836296   \n\n        AMR       apol  naAromAtom  nAromBond  nAtom  nHeavyAtom  ...  \\\n0  126.1188  74.170169          12         12     64          31  ...   \n1  131.9420  80.357341          12         12     70          33  ...   \n2  139.9304  74.064997          18         18     62          33  ...   \n3  133.4822  80.357341          12         12     70          33  ...   \n4  143.1903  76.356583          18         18     64          33  ...   \n\n           MW     WTPT-1    WTPT-2     WTPT-3     WTPT-4    WTPT-5  WPATH  \\\n0  439.218115  64.771680  2.089409  15.471445   8.858910  3.406628   3011   \n1  467.249415  68.960024  2.089698  15.486947   8.863774  3.406648   3516   \n2  463.181729  68.748923  2.083301  18.011114  11.390412  3.406644   3542   \n3  467.249415  68.883696  2.087385  15.468365   8.857943  3.406624   3594   \n4  461.202465  68.883696  2.087385  15.468365   8.857943  3.406624   3594   \n\n   WPOL  XLogP  Zagreb  \n0    47  4.666     166  \n1    54  5.804     174  \n2    52  2.964     176  \n3    50  6.015     174  \n4    50  4.462     174  \n\n[5 rows x 730 columns]",
      "text/html": "<div>\n<style scoped>\n    .dataframe tbody tr th:only-of-type {\n        vertical-align: middle;\n    }\n\n    .dataframe tbody tr th {\n        vertical-align: top;\n    }\n\n    .dataframe thead th {\n        text-align: right;\n    }\n</style>\n<table border=\"1\" class=\"dataframe\">\n  <thead>\n    <tr style=\"text-align: right;\">\n      <th></th>\n      <th>SMILES</th>\n      <th>nAcid</th>\n      <th>ALogP</th>\n      <th>ALogp2</th>\n      <th>AMR</th>\n      <th>apol</th>\n      <th>naAromAtom</th>\n      <th>nAromBond</th>\n      <th>nAtom</th>\n      <th>nHeavyAtom</th>\n      <th>...</th>\n      <th>MW</th>\n      <th>WTPT-1</th>\n      <th>WTPT-2</th>\n      <th>WTPT-3</th>\n      <th>WTPT-4</th>\n      <th>WTPT-5</th>\n      <th>WPATH</th>\n      <th>WPOL</th>\n      <th>XLogP</th>\n      <th>Zagreb</th>\n    </tr>\n  </thead>\n  <tbody>\n    <tr>\n      <th>0</th>\n      <td>Oc1ccc2O[C@H]([C@H](Sc2c1)C3CCCC3)c4ccc(OCCN5C...</td>\n      <td>0</td>\n      <td>-0.2860</td>\n      <td>0.081796</td>\n      <td>126.1188</td>\n      <td>74.170169</td>\n      <td>12</td>\n      <td>12</td>\n      <td>64</td>\n      <td>31</td>\n      <td>...</td>\n      <td>439.218115</td>\n      <td>64.771680</td>\n      <td>2.089409</td>\n      <td>15.471445</td>\n      <td>8.858910</td>\n      <td>3.406628</td>\n      <td>3011</td>\n      <td>47</td>\n      <td>4.666</td>\n      <td>166</td>\n    </tr>\n    <tr>\n      <th>1</th>\n      <td>Oc1ccc2O[C@H]([C@H](Sc2c1)C3CCCCCC3)c4ccc(OCCN...</td>\n      <td>0</td>\n      <td>-0.8620</td>\n      <td>0.743044</td>\n      <td>131.9420</td>\n      <td>80.357341</td>\n      <td>12</td>\n      <td>12</td>\n      <td>70</td>\n      <td>33</td>\n      <td>...</td>\n      <td>467.249415</td>\n      <td>68.960024</td>\n      <td>2.089698</td>\n      <td>15.486947</td>\n      <td>8.863774</td>\n      <td>3.406648</td>\n      <td>3516</td>\n      <td>54</td>\n      <td>5.804</td>\n      <td>174</td>\n    </tr>\n    <tr>\n      <th>2</th>\n      <td>Oc1ccc(cc1)[C@H]2Sc3cc(O)ccc3O[C@H]2c4ccc(OCCN...</td>\n      <td>0</td>\n      <td>0.7296</td>\n      <td>0.532316</td>\n      <td>139.9304</td>\n      <td>74.064997</td>\n      <td>18</td>\n      <td>18</td>\n      <td>62</td>\n      <td>33</td>\n      <td>...</td>\n      <td>463.181729</td>\n      <td>68.748923</td>\n      <td>2.083301</td>\n      <td>18.011114</td>\n      <td>11.390412</td>\n      <td>3.406644</td>\n      <td>3542</td>\n      <td>52</td>\n      <td>2.964</td>\n      <td>176</td>\n    </tr>\n    <tr>\n      <th>3</th>\n      <td>Oc1ccc2O[C@H]([C@@H](CC3CCCCC3)Sc2c1)c4ccc(OCC...</td>\n      <td>0</td>\n      <td>-0.3184</td>\n      <td>0.101379</td>\n      <td>133.4822</td>\n      <td>80.357341</td>\n      <td>12</td>\n      <td>12</td>\n      <td>70</td>\n      <td>33</td>\n      <td>...</td>\n      <td>467.249415</td>\n      <td>68.883696</td>\n      <td>2.087385</td>\n      <td>15.468365</td>\n      <td>8.857943</td>\n      <td>3.406624</td>\n      <td>3594</td>\n      <td>50</td>\n      <td>6.015</td>\n      <td>174</td>\n    </tr>\n    <tr>\n      <th>4</th>\n      <td>Oc1ccc2O[C@H]([C@@H](Cc3ccccc3)Sc2c1)c4ccc(OCC...</td>\n      <td>0</td>\n      <td>1.3551</td>\n      <td>1.836296</td>\n      <td>143.1903</td>\n      <td>76.356583</td>\n      <td>18</td>\n      <td>18</td>\n      <td>64</td>\n      <td>33</td>\n      <td>...</td>\n      <td>461.202465</td>\n      <td>68.883696</td>\n      <td>2.087385</td>\n      <td>15.468365</td>\n      <td>8.857943</td>\n      <td>3.406624</td>\n      <td>3594</td>\n      <td>50</td>\n      <td>4.462</td>\n      <td>174</td>\n    </tr>\n  </tbody>\n</table>\n<p>5 rows × 730 columns</p>\n</div>"
     },
     "execution_count": 87,
     "metadata": {},
     "output_type": "execute_result"
    }
   ],
   "source": [
    "df.head(5)"
   ]
  },
  {
   "cell_type": "markdown",
   "id": "a943dae9-a593-4a14-bb57-b7b6cf0238e9",
   "metadata": {},
   "source": [
    "#### （3） 检查”naAromAtom”列是否有空值"
   ]
  },
  {
   "cell_type": "code",
   "execution_count": 88,
   "id": "db1c53cb-b746-41d6-ad04-f294c958e8d2",
   "metadata": {},
   "outputs": [
    {
     "data": {
      "text/plain": "0       False\n1       False\n2       False\n3       False\n4       False\n        ...  \n1969    False\n1970    False\n1971    False\n1972    False\n1973    False\nName: naAromAtom, Length: 1974, dtype: bool"
     },
     "execution_count": 88,
     "metadata": {},
     "output_type": "execute_result"
    }
   ],
   "source": [
    "df['naAromAtom'].isnull()"
   ]
  },
  {
   "cell_type": "markdown",
   "id": "7b4c39b1-e763-40c4-8d40-55956acd3947",
   "metadata": {},
   "source": [
    "#### （4）求“naAromAtom”列的平均值、方差、标准差，四分位数，中位数"
   ]
  },
  {
   "cell_type": "code",
   "execution_count": 89,
   "id": "c9b60113-e854-439d-8daf-6e5789f56ba1",
   "metadata": {},
   "outputs": [
    {
     "data": {
      "text/plain": "count    1974.000000\nmean       15.446809\nstd         5.155854\nmin         0.000000\n25%        12.000000\n50%        16.000000\n75%        18.000000\nmax        30.000000\nName: naAromAtom, dtype: float64"
     },
     "execution_count": 89,
     "metadata": {},
     "output_type": "execute_result"
    }
   ],
   "source": [
    "df[\"naAromAtom\"].describe()"
   ]
  },
  {
   "cell_type": "markdown",
   "id": "9b6be9a7-a7e1-466d-b326-b0a744d9fd81",
   "metadata": {},
   "source": [
    "#### （5）利用“naAromAtom”列的数据绘制频率直方图"
   ]
  },
  {
   "cell_type": "code",
   "execution_count": 90,
   "id": "1ec5c3d1-9a5a-4da3-8f38-8603eb75924c",
   "metadata": {},
   "outputs": [
    {
     "data": {
      "text/plain": "(array([ 53.,   0.,   0.,   8., 111.,   0.,  66.,  43., 376.,  16., 341.,\n         38., 582.,  20., 216.,  19.,  50.,   8.,  23.,   4.]),\n array([ 0. ,  1.5,  3. ,  4.5,  6. ,  7.5,  9. , 10.5, 12. , 13.5, 15. ,\n        16.5, 18. , 19.5, 21. , 22.5, 24. , 25.5, 27. , 28.5, 30. ]),\n <BarContainer object of 20 artists>)"
     },
     "execution_count": 90,
     "metadata": {},
     "output_type": "execute_result"
    },
    {
     "data": {
      "text/plain": "<Figure size 640x480 with 1 Axes>",
      "image/png": "[encoded data removed]"
     },
     "metadata": {},
     "output_type": "display_data"
    }
   ],
   "source": [
    "import matplotlib.pyplot as plt\n",
    "plt.hist(df['naAromAtom'],bins=20)\n"
   ]
  },
  {
   "cell_type": "markdown",
   "id": "92ad081c-fec4-4e96-827c-44a85d9d3dfe",
   "metadata": {},
   "source": [
    "#### （6）读取naAromAtom列数据，转换成列表 ，利用for循环，打印列表的前三个数据"
   ]
  },
  {
   "cell_type": "code",
   "execution_count": 91,
   "id": "bf6924b3-a73a-43f1-b99c-ce2a977b35ec",
   "metadata": {
    "tags": []
   },
   "outputs": [
    {
     "name": "stdout",
     "output_type": "stream",
     "text": [
      "12\n",
      "12\n",
      "18\n"
     ]
    }
   ],
   "source": [
    "naAromAtom_list=df['naAromAtom'].to_list()\n",
    "for i in range(3):\n",
    "    print(naAromAtom_list[i])"
   ]
  },
  {
   "cell_type": "markdown",
   "id": "a7278888-8af6-42f6-b221-7bcea19c8f2a",
   "metadata": {},
   "source": [
    "#### （7）利用列表切片的方法，遍历列表的最后三个数据"
   ]
  },
  {
   "cell_type": "code",
   "execution_count": 92,
   "id": "3f5f30e2-30e4-475e-b6ff-7ed1f6fae073",
   "metadata": {},
   "outputs": [
    {
     "name": "stdout",
     "output_type": "stream",
     "text": [
      "[24, 18, 24]\n"
     ]
    }
   ],
   "source": [
    "print(naAromAtom_list[-3:])"
   ]
  },
  {
   "cell_type": "markdown",
   "id": "0d2739bc-2a41-4b0e-99f2-c9bf5cd12ba2",
   "metadata": {},
   "source": [
    "#### （8）将naAromAtom列的最后3个数据单独存一个列表‘nalist’，遍历列表，每个值是否等于18，若是则打印True，否则打印False"
   ]
  },
  {
   "cell_type": "code",
   "execution_count": 93,
   "id": "9269f689-0c8f-4ac5-bcab-c548c06d726a",
   "metadata": {},
   "outputs": [
    {
     "name": "stdout",
     "output_type": "stream",
     "text": [
      "False\n",
      "True\n",
      "False\n"
     ]
    }
   ],
   "source": [
    "nalist=naAromAtom_list[-3:]\n",
    "for i in nalist:\n",
    "    if i == 18:\n",
    "        print(\"True\")\n",
    "    else:\n",
    "        print(\"False\")"
   ]
  },
  {
   "cell_type": "markdown",
   "id": "bd843a12-7955-4274-8034-8eac6b38e8c5",
   "metadata": {},
   "source": [
    "#### （9）将SMILES列的前三行数据作为字典的key，naAromAtom列的前三行数据作为value,构建字典df_dic"
   ]
  },
  {
   "cell_type": "code",
   "execution_count": 94,
   "id": "243fc067-2af9-4ec9-b014-16e6f9c71a3e",
   "metadata": {},
   "outputs": [
    {
     "data": {
      "text/plain": "{'Oc1ccc2O[C@H]([C@H](Sc2c1)C3CCCC3)c4ccc(OCCN5CCCCC5)cc4': 12,\n 'Oc1ccc2O[C@H]([C@H](Sc2c1)C3CCCCCC3)c4ccc(OCCN5CCCCC5)cc4': 12,\n 'Oc1ccc(cc1)[C@H]2Sc3cc(O)ccc3O[C@H]2c4ccc(OCCN5CCCCC5)cc4': 18}"
     },
     "execution_count": 94,
     "metadata": {},
     "output_type": "execute_result"
    }
   ],
   "source": [
    "smiles_list3=df[\"SMILES\"].to_list()[0:3]\n",
    "na_list3=df[\"naAromAtom\"].to_list()[0:3]\n",
    "df_dic=dict(zip(smiles_list3,na_list3))\n",
    "df_dic"
   ]
  },
  {
   "cell_type": "markdown",
   "id": "f4e9c4f8-ef9e-4e10-97f3-babdc0cc3eeb",
   "metadata": {},
   "source": [
    "#### （10）访问“Oc1ccc2O[C@H]([C@H](Sc2c1)C3CCCCCC3)c4ccc(OCCN5CCCCC5)cc4”的值"
   ]
  },
  {
   "cell_type": "code",
   "execution_count": 95,
   "id": "337a4a42-4654-47dc-b5f2-0a6cbbab279a",
   "metadata": {},
   "outputs": [
    {
     "name": "stdout",
     "output_type": "stream",
     "text": [
      "12\n"
     ]
    }
   ],
   "source": [
    "print(df_dic[\"Oc1ccc2O[C@H]([C@H](Sc2c1)C3CCCCCC3)c4ccc(OCCN5CCCCC5)cc4\"])"
   ]
  }
 ],
 "metadata": {
  "kernelspec": {
   "display_name": "Python 3",
   "language": "python",
   "name": "python3"
  },
  "language_info": {
   "codemirror_mode": {
    "name": "ipython",
    "version": 3
   },
   "file_extension": ".py",
   "mimetype": "text/x-python",
   "name": "python",
   "nbconvert_exporter": "python",
   "pygments_lexer": "ipython3",
   "version": "3.8.16"
  }
 },
 "nbformat": 4,
 "nbformat_minor": 5
}
